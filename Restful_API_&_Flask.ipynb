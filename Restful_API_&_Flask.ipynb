{
  "cells": [
    {
      "cell_type": "markdown",
      "metadata": {
        "id": "5VbCvkzWRGao"
      },
      "source": [
        "**THEORY**"
      ]
    },
    {
      "cell_type": "markdown",
      "metadata": {
        "id": "90a1PiFcRMDc"
      },
      "source": [
        "1.  What is a RESTful API?\n",
        "\n",
        "-> A RESTful API (Representational State Transfer) is an architectural style for designing networked applications. It's a set of principles that guide the creation of web services, making them stateless, scalable, and easy to understand.\n",
        "\n",
        " **Key** **principles** **of** **REST** **include**:\n",
        "\n",
        "* Statelessness:\n",
        " Each request from a client to a server contains all the information needed to understand the request. The server doesn't store any context about the client between requests.\n",
        "* Client-Server: There's a clear separation between the client and the server.\n",
        "* Cacheable: Responses from the server can be cached by clients to improve performance.\n",
        "* Layered System: A client might not be connected directly to the server it's interacting with. There might be intermediaries like proxies or load balancers.\n",
        "* Uniform Interface: The way the client interacts with the server is standardized, often using standard HTTP methods (GET, POST, PUT, DELETE) to interact with resources.\n",
        "\n",
        "In essence, a RESTful API treats data as resources that can be accessed and manipulated through standard operations."
      ]
    },
    {
      "cell_type": "markdown",
      "metadata": {
        "id": "_A96wo9lU8E1"
      },
      "source": [
        "2. Explain the concept of API specification.\n",
        "\n",
        "-> An API specification is a formal document that defines the requirements and expected behavior of an API. It provides a detailed description of how the API works, including:\n",
        "\n",
        "* Endpoints: The URLs that clients use to access specific resources.\n",
        "* HTTP Methods: Which HTTP methods (like GET, POST, PUT, DELETE) are used for different operations on those resources.\n",
        "* Request and Response Formats: How data is sent to and received from the API, often using formats like JSON or XML.\n",
        " Parameters: The data that needs to be included in requests, such as query parameters or request body content.\n",
        "* Authentication and Authorization: How clients need to identify themselves and what permissions they have.\n",
        "* Error Handling: How the API signals errors and what information is provided in error responses.\n",
        "\n",
        "In essence, an API specification serves as a contract between the API provider and the API consumer, ensuring that both sides understand how to interact with the API correctly."
      ]
    },
    {
      "cell_type": "markdown",
      "metadata": {
        "id": "nkOlc9tjX5Y9"
      },
      "source": [
        "3.  What is Flask, and why is it popular for building APIs.\n",
        "\n",
        "-> Flask is a micro web framework for Python. It's popular for building APIs because it's lightweight and provides the essentials for web development without imposing a lot of opinions or dependencies. This makes it flexible and easy to customize, which is beneficial when creating APIs that might have specific requirements.\n",
        "\n",
        "**Here**'**s** **why** **Flask** **is** **a** **good** **choice** **for** **building** **APIs**:\n",
        "\n",
        "* Simplicity: Flask has a simple core and is easy to learn, allowing developers to quickly get started building APIs.\n",
        "* Flexibility: It doesn't come with a lot of built-in features, giving developers the freedom to choose the libraries and tools they need for their specific API.\n",
        "* Built-in development server and debugger: Flask includes a development server and a fast debugger, which are helpful for testing and troubleshooting APIs during development.\n",
        "* Extensible: Flask's micro nature means you can add extensions for various functionalities as needed, such as handling database interactions, authentication, or form validation.\n",
        "In summary, Flask's simplicity, flexibility, and ease of use make it a popular choice for developers who want to build APIs in Python, especially for projects where a lightweight framework is preferred."
      ]
    },
    {
      "cell_type": "markdown",
      "metadata": {
        "id": "eyUiKV-wZAtq"
      },
      "source": [
        "4.  What is routing in Flask?\n",
        "\n",
        "-> In Flask, routing is the mechanism that maps a URL request to a specific function in your application [1]. When a client sends a request to your Flask application at a particular URL, Flask uses its routing system to determine which function should handle that request.\n",
        "\n",
        "**Here**'**s** **how** **it** **works**:\n",
        "\n",
        "Routes: You define routes using the @app.route() decorator in your Python code. This decorator is placed above a Python function, indicating that this function should be executed when a request is made to the specified URL path.\n",
        "\n",
        "* URL Patterns: The @app.route() decorator takes a URL pattern as an argument. This pattern can be a simple path like / for the homepage or more complex paths with variable parts like /users/<username>.\n",
        "\n",
        "* HTTP Methods: By default, a route only answers to GET requests [1]. You can specify which HTTP methods (like GET, POST, PUT, DELETE) a route should handle using the methods argument in the @app.route() decorator.\n",
        "* View Functions: The function associated with a route is often called a view function. This function contains the logic to process the request and return a response.\n",
        "\n",
        "Essentially, routing in Flask is how you define the different endpoints of your API and connect them to the code that will handle requests to those endpoints. It's a fundamental concept for building web applications and APIs with Flask."
      ]
    },
    {
      "cell_type": "markdown",
      "metadata": {
        "id": "VBtTfDWGZ6Df"
      },
      "source": [
        "5.  How do you create a simple Flask application.\n",
        "\n",
        "-> Creating a simple Flask application involves a few key steps:\n",
        "\n",
        "*  Import the Flask class: You start by importing the necessary Flask class from the flask library. This class is the foundation of your web application.\n",
        "\n",
        "*  Create a Flask application instance: You create an instance of the Flask class. This instance is your web application object. You typically pass __name__ as an argument to the constructor, which helps Flask locate resources like templates and static files.\n",
        "\n",
        "*  Define routes and view functions: This is where you map URLs to specific Python functions that will handle requests to those URLs. You use the @app.route() decorator above a function definition. The decorator takes a URL path as an argument. The function that the decorator is applied to is called a view function, and it contains the logic to process the request and return a response. For a simple application, a view function might just return a string that will be displayed in the browser.\n",
        "\n",
        "* Run the application: You use the app.run() method to start the development server. This makes your Flask application accessible to clients. You can specify parameters like debug=True to enable debugging features, which are helpful during development. The if _ __name__ == \"__main__\": block is often used to ensure that the server only runs when the script is executed directly.\n",
        "\n",
        "In essence, you're setting up a minimal web server that listens for incoming requests at specific URLs and executes corresponding Python functions to generate responses. Flask provides the tools to handle the web server aspects, allowing you to focus on writing the application logic in your view functions."
      ]
    },
    {
      "cell_type": "markdown",
      "metadata": {
        "id": "EdcC1bhbbDgN"
      },
      "source": [
        "6.  What are HTTP methods used in RESTful APIs?\n",
        "\n",
        "->  RESTful APIs typically use standard HTTP methods to perform operations on resources.\n",
        "\n",
        "**Here** **are** **the** **most** **commonly** **used** **ones**:\n",
        "\n",
        "* GET: Used to retrieve data from a resource. GET requests should be idempotent and safe (they should not change the state of the resource).\n",
        "* POST: Used to create a new resource or submit data to be processed. POST requests are typically not idempotent (making the same request multiple times may result in creating multiple resources).\n",
        "* PUT: Used to update or replace an existing resource. PUT requests are idempotent (making the same request multiple times should have the same effect as making it once).\n",
        "* DELETE: Used to delete a resource. DELETE requests are typically idempotent.\n",
        "\n",
        "While these are the primary methods, other HTTP methods like PATCH (used to apply partial modifications to a resource) and OPTIONS (used to describe the communication options for the target resource) can also be used in RESTful APIs."
      ]
    },
    {
      "cell_type": "markdown",
      "metadata": {
        "id": "_btCp7zIc8eo"
      },
      "source": [
        "7.  What is the purpose of the @app.route() decorator in Flask?\n",
        "\n",
        "-> The @app.route() decorator in Flask is a crucial part of how Flask handles routing. Its primary purpose is to associate a URL path with a specific Python function that will be executed when a client makes a request to that URL.\n",
        "\n",
        "**Here**'**s** **a** **breakdown** **of** **its** **purpose**:\n",
        "\n",
        "* Mapping URLs to Functions: The decorator tells Flask which function should handle incoming requests for a particular URL. When a user navigates to a specific URL in their browser (or a client sends a request to that URL), Flask looks for the function that has been decorated with @app.route() for that URL path and executes it.\n",
        "* Defining Endpoints: Each use of @app.route() effectively defines an endpoint for your web application or API. These endpoints are the accessible URLs that clients can interact with.\n",
        "Handling HTTP Methods: While by default @app.route() handles GET requests, you can also specify other HTTP methods (like POST, PUT, DELETE) that the decorated function should respond to by using the methods argument in the decorator. This allows you to define different behavior for different types of requests to the same URL.\n",
        "* Readability and Organization: Using decorators makes the code more readable and organized. It clearly shows which function is responsible for handling which URL, making it easier to understand the structure of your application.\n",
        "\n",
        "In essence, the @app.route() decorator is the mechanism that connects incoming web requests to the Python code that will process them and generate a response. It's a fundamental tool for defining the structure and behavior of your Flask application or API."
      ]
    },
    {
      "cell_type": "markdown",
      "metadata": {
        "id": "dcJa3yzHgn4d"
      },
      "source": [
        "8. What is the difference between GET and POST HTTP methods.\n",
        "\n",
        "-> **Here** **are** **the** **key** **differences** **between** **GET** **and** **POST**:\n",
        "\n",
        "* Purpose:\n",
        "\n",
        "  * GET: Used to request data from a specified resource. It retrieves information without changing the state of the server.\n",
        "  * POST: Used to send data to a server to create or update a resource. It typically changes the state of the server.\n",
        "\n",
        "* Data Transmission:\n",
        "\n",
        "  * GET: Data is sent in the URL as query parameters. This means the data is visible in the URL and can be bookmarked.\n",
        "  * POST: Data is sent in the body of the HTTP request. This data is not visible in the URL.\n",
        "\n",
        "* Idempotence:\n",
        "\n",
        "  * GET: GET requests are considered idempotent. This means that making the same GET request multiple times should have the same effect as making it once (it will retrieve the same data).\n",
        "  * POST: POST requests are typically not idempotent. Making the same POST request multiple times may result in creating multiple resources or having other unintended side effects.\n",
        "\n",
        "* Safety:\n",
        "\n",
        "  * GET: GET requests are considered safe because they are intended only for retrieving data and should not have any side effects on the server.\n",
        "  * POST: POST requests are not considered safe because they are used to send data that can modify the server's state.\n",
        "\n",
        "* Caching:\n",
        "\n",
        "  * GET: GET requests can be cached by browsers and proxy servers.\n",
        "  * POST: POST requests are typically not cached by default, although caching can be enabled with specific headers.\n",
        "\n",
        "* Limitations:\n",
        "\n",
        "   * GET: There are practical limits on the length of a URL, which can limit the amount of data that can be sent with a GET request.\n",
        "\n",
        "  *  POST: There is generally no practical limit on the amount of data that can be sent with a POST request (though servers may have their own limits).\n",
        "\n",
        "In summary, GET is for retrieving data and is suitable for requests that don't modify the server state. POST is for sending data to the server to create or update resources and is used when you need to send a larger amount of data or sensitive information that should not be visible in the URL."
      ]
    },
    {
      "cell_type": "markdown",
      "metadata": {
        "id": "OTkKrAXQiiJt"
      },
      "source": [
        "9. How do you handle errors in Flask APIs?\n",
        "\n",
        "-> Handling errors in Flask APIs involves providing appropriate responses to clients when something goes wrong during request processing. This is crucial for building robust and user-friendly APIs.\n",
        "\n",
        "**Here** **are** **the** **key** **concepts** **and** **methods** **for** **handling** **errors** **in** **Flask** **APIs**:\n",
        "\n",
        "* Understanding HTTP Status Codes: The foundation of error handling in web APIs is the use of HTTP status codes. These three-digit codes communicate the result of a client's request. For errors, status codes in the 4xx range (Client Error) indicate that the client's request was somehow invalid, while status codes in the 5xx range (Server Error) indicate that the server encountered an issue while processing a valid request. When an error occurs in Flask, an appropriate HTTP status code will be returned by default.\n",
        "\n",
        "* Providing Informative Error Responses: In addition to the status code, it's important to provide informative error responses to the client. This typically involves returning a response body (often in JSON format for APIs) that includes details about the error, such as an error message and potentially an error code or other relevant information. This helps clients understand what went wrong and how to potentially fix their request.\n",
        "\n",
        "* Using Flask's Error Handling Mechanisms: Flask provides built-in mechanisms for handling errors:\n",
        "\n",
        "  * Default Error Pages: Flask has default error pages for common HTTP errors (like 404 Not Found, 500 Internal Server Error) that are displayed in a web browser.\n",
        "  * Custom Error Handlers: You can define custom error handlers for specific HTTP status codes or exceptions using the @app.errorhandler() decorator. This allows you to customize the error response, for example, by rendering a specific template or returning a JSON response with detailed error information.\n",
        "* Handling Exceptions in View Functions: You can use standard Python error handling techniques, such as try...except blocks, within your view functions to catch specific exceptions that might occur during request processing. Within the except block, you can then construct and return an appropriate error response to the client.\n",
        "\n",
        "* Creating Custom Exception Classes: For more structured error handling, especially in larger APIs, you can define custom exception classes to represent specific types of errors that can occur in your application. You can then raise these custom exceptions in your view functions and define error handlers for them using @app.errorhandler(). This allows you to centralize error handling logic and provide consistent error responses for different types of errors.\n",
        "\n",
        "In essence, handling errors in Flask APIs is about intercepting errors that occur, identifying the type of error using appropriate HTTP status codes, and providing informative responses to the client to help them understand and potentially resolve the issue. Flask provides the tools to customize this process and create robust error handling for your API."
      ]
    },
    {
      "cell_type": "markdown",
      "metadata": {
        "id": "ZgPKCi5Aj2fh"
      },
      "source": [
        "10.  How do you connect Flask to a SQL database?\n",
        "\n",
        "-> Connecting a Flask application to a SQL database typically involves using a database adapter library for Python and configuring your Flask application to use it. Flask itself doesn't provide built-in database support, but its flexibility allows you to integrate with various database libraries.\n",
        "\n",
        "**Here**'**s** **a** **general** **outline** **of** **the** **steps** **involved**:\n",
        "\n",
        "* Choose a Database and Adapter:\n",
        "\n",
        "  * Select the SQL database you want to use (e.g., SQLite, PostgreSQL, MySQL).\n",
        "  * Install a Python library that can connect to that database. For example:\n",
        "   * sqlite3 (built-in for SQLite)\n",
        "   * psycopg2 for PostgreSQL\n",
        "   * mysql-connector-python for MySQL\n",
        "\n",
        "* Establish a Database Connection:\n",
        "\n",
        "  * In your Flask application, you need a way to establish a connection to the database.\n",
        "  * It's common practice to manage the database connection within the Flask application's request context. This ensures that a database connection is available for each request and is properly closed afterwards.\n",
        "  * You can use Flask's g object (a global object unique to each request) to store the database connection.\n",
        "\n",
        "* Create Functions for Database Interaction:\n",
        "\n",
        "  * Write functions to get and close the database connection.\n",
        "  * The \"get\" function should establish a new connection if one doesn't exist for the current request (e.g., stored in g).\n",
        "  * The \"close\" function should close the connection, typically registered to run after each request.\n",
        "\n",
        "* Initialize the Database (Optional):\n",
        "\n",
        "  * If you need to create the database or set up tables, you'll need a way to execute SQL statements for initialization.\n",
        " * This might involve reading SQL commands from a file and executing them through the database connection.\n",
        "\n",
        "5. Integrate with Flask Application Lifecycle:\n",
        "\n",
        " * Register the \"close\" function to be called automatically when the application context tears down (e.g., after each request). Flask provides app.teardown_appcontext() for this.\n",
        "  * Consider creating a command-line command to initialize the database if needed.\n",
        "\n",
        "6. Use the Database in View Functions:\n",
        "\n",
        "  * In your Flask view functions, you can call your \"get\" function to retrieve the database connection.\n",
        "  * Use the database connection object to execute SQL queries to read from or write to the database.\n",
        "\n",
        "In summary, connecting Flask to a SQL database involves choosing a database adapter, managing database connections within the Flask request lifecycle (often using g and teardown functions), and executing SQL queries or using an ORM to interact with the database."
      ]
    },
    {
      "cell_type": "markdown",
      "metadata": {
        "id": "biZwDlLvnpXR"
      },
      "source": [
        "11. What is the role of Flask-SQLAlchemy?\n",
        "\n",
        "\n",
        "-> Flask-SQLAlchemy is a Flask extension that provides integration with SQLAlchemy, a powerful and flexible SQL toolkit and Object-Relational Mapper (ORM) for Python. Its primary role is to simplify the process of using SQLAlchemy within Flask applications.\n",
        "\n",
        "**Here**'**s** **a** **breakdown** **of** **the** **role** **of** **Flask**-**SQLAlchemy**:\n",
        "\n",
        "* Integration with Flask: Flask-SQLAlchemy seamlessly integrates SQLAlchemy with your Flask application. It handles the setup and configuration of SQLAlchemy within the Flask context, making it easier to manage database connections and sessions.\n",
        "\n",
        "* Simplified Setup: It provides a simple way to configure your database connection using your Flask application's configuration. You typically specify the database URL in your Flask config, and Flask-SQLAlchemy handles the rest.\n",
        "\n",
        "* Session Management: Flask-SQLAlchemy automatically manages database sessions for you. It ensures that a database session is available for each request and that the session is properly closed when the request is finished. This helps prevent issues like resource leaks.\n",
        "\n",
        "* Declarative Models: It simplifies the process of defining your database models using SQLAlchemy's declarative system. You can define your database tables as Python classes, and Flask-SQLAlchemy handles the mapping between your classes and the database tables.\n",
        "\n",
        "* Database Operations: It provides a convenient way to perform common database operations, such as querying data, adding new records, updating existing records, and deleting records, using the methods provided by SQLAlchemy's ORM.\n",
        "\n",
        "* Migrations: While not a core part of Flask-SQLAlchemy itself, it works well with database migration tools like Flask-Migrate (which uses Alembic). This helps manage changes to your database schema as your application evolves.\n",
        "\n",
        "In essence, Flask-SQLAlchemy acts as a bridge between Flask and SQLAlchemy, making it much easier to build database-driven Flask applications. It abstracts away many of the complexities of working with SQLAlchemy directly in a web application context, allowing you to focus on defining your data models and application logic."
      ]
    },
    {
      "cell_type": "markdown",
      "metadata": {
        "id": "0m6EtkIWopbc"
      },
      "source": [
        "12.  What are Flask blueprints, and how are they useful?\n",
        "\n",
        "\n",
        "-> Flask blueprints are a way to organize your Flask application into smaller, reusable components. They allow you to structure your application into logical units, which can be particularly helpful for larger applications or when you want to reuse parts of your application across different projects.\n",
        "\n",
        "Here's a breakdown of what Flask blueprints are and how they are useful:\n",
        "\n",
        "**What** **are** **Flask** **Blueprints**?\n",
        "\n",
        "A blueprint is a conceptual entity within Flask that allows you to define a collection of routes, view functions, templates, static files, and other application-specific resources in a single, self-contained unit. It doesn't become a complete application on its own; instead, it needs to be registered with a Flask application instance to become active.\n",
        "\n",
        "**How** **are** **they** **useful**?\n",
        "\n",
        "Flask blueprints provide several benefits for organizing and managing your Flask applications:\n",
        "\n",
        "* Modularity and Organization: Blueprints help you break down a large application into smaller, more manageable parts. Each blueprint can represent a specific feature or area of your application (e.g., a user authentication module, a blog section, an admin panel). This makes your code more organized and easier to understand.\n",
        "\n",
        "* Reusability: Blueprints are designed to be reusable. You can define a blueprint once and then register it with different Flask application instances or even multiple times within the same application with different configurations. This is useful for creating reusable components or building applications with similar structures.\n",
        "\n",
        "* Scalability: As your application grows, using blueprints can help you manage complexity and scale your application more effectively. You can add new features by creating new blueprints and registering them with your main application.\n",
        "\n",
        "* URL Prefixing: Blueprints allow you to define a URL prefix for all the routes within that blueprint. This can help avoid naming conflicts between routes in different blueprints and makes your URLs more organized. For example, all routes in a user blueprint might start with /users/.\n",
        "\n",
        "* Separation of Concerns: Blueprints promote the separation of concerns by allowing you to group related functionality together. This makes your code more maintainable and testable.\n",
        "\n",
        "* Working with Teams: In larger projects with multiple developers, blueprints can help different teams work on different parts of the application independently without interfering with each other's code.\n",
        "\n",
        "In essence, Flask blueprints provide a structured way to build modular and scalable Flask applications. They help you organize your code, promote reusability, and make it easier to manage complexity in larger projects."
      ]
    },
    {
      "cell_type": "markdown",
      "metadata": {
        "id": "D3YYP_t6qMBf"
      },
      "source": [
        "13.  What is the purpose of Flask's request object?\n",
        "\n",
        "-> In Flask, the request object is a central component that provides access to incoming request data from the client. Its primary purpose is to give your view functions (the functions that handle incoming requests) all the information they need about the current request to process it correctly and generate an appropriate response.\n",
        "\n",
        "**Here**'**s** **a** **breakdown** **of** **the** **key** **purposes** **of** **the** **request** **object**:\n",
        "\n",
        "* Accessing Request Data: The request object allows you to access various parts of the incoming HTTP request, including:\n",
        "\n",
        "  * Form Data: Data submitted through HTML forms (typically with the POST method). You can access this using request.form.\n",
        " * Query Parameters: Data included in the URL as query strings (typically with the GET method). You can access this using request.args.\n",
        "  * JSON Data: Data sent in the request body as JSON. You can access this using request.get_json().\n",
        "  * Files: Uploaded files. You can access these using request.files.\n",
        "  * Headers: The HTTP headers sent by the client. You can access these using request.headers.\n",
        "  * Cookies: Cookies sent by the client. You can access these using request.cookies.\n",
        "* Determining Request Method: The request object allows you to check the HTTP method used for the request (e.g., GET, POST, PUT, DELETE) using request.method. This is crucial for handling different types of requests to the same URL.\n",
        "\n",
        "* Accessing URL Information: You can get information about the requested URL, such as the path (request.path), the full URL (request.url), and the hostname (request.host).\n",
        "\n",
        "* Accessing Client Information: You can get some information about the client making the request, such as their IP address (request.remote_addr) and the user agent string (request.user_agent).\n",
        "\n",
        "* Context Management: The request object is part of Flask's request context. This context is activated for each incoming request and holds information relevant to that request, making the request object available to your view functions and other parts of your application during request processing.\n",
        "\n",
        "In essence, the request object provides a standardized way to access and work with all the information contained within an incoming HTTP request. It's the gateway through which your Flask application interacts with the data sent by clients, allowing you to build dynamic and responsive web applications and APIs.\n",
        "\n"
      ]
    },
    {
      "cell_type": "markdown",
      "metadata": {
        "id": "qJcckP0Rsd3E"
      },
      "source": [
        "14. How do you create a RESTful API endpoint using Flask?\n",
        "\n",
        "-> Creating a RESTful API endpoint using Flask is about defining a URL that represents a resource and associating it with Python code that performs specific actions on that resource based on the HTTP method used in the request.\n",
        "\n",
        "**Here**'**s** **the** **theoretical** **process**:\n",
        "\n",
        "* Define a Resource: First, identify the resource that your endpoint will interact with (e.g., users, products, orders). This resource will typically correspond to a noun in your API's URL structure.\n",
        "\n",
        "* Choose a URL Path: Select a URL path that clearly represents the resource. For collections of resources, the path is often the plural form of the resource noun (e.g., /api/users). For individual resources, the path includes an identifier (e.g., /api/users/123).\n",
        "\n",
        "* Associate the URL with a View Function: In Flask, you use the @app.route() decorator to link a URL path to a Python function (the view function) that will handle requests to that path.\n",
        "\n",
        "* Handle HTTP Methods: RESTful APIs use standard HTTP methods to indicate the desired action on the resource. You need to configure your endpoint to respond to the appropriate methods:\n",
        "\n",
        "  * GET: To retrieve the resource (or a collection of resources).\n",
        "  * POST: To create a new instance of the resource.\n",
        "  * PUT: To update or replace an existing resource.\n",
        "  * DELETE: To delete an existing resource. You specify which methods a route should handle using the methods argument in the @app.route() decorator.\n",
        "* Access Request Data: Within your view function, you'll need to access data from the incoming request. Flask's request object provides access to various components of the request, such as:\n",
        "\n",
        "  * Query parameters (for GET requests).\n",
        "  * Request body data (for POST, PUT, and PATCH requests), often in JSON format.\n",
        "* Process the Request: Based on the HTTP method and the request data, your view function will contain the logic to interact with your data source (e.g., a database). This might involve:\n",
        "\n",
        "  * Retrieving data.\n",
        "  * Creating new records.\n",
        "  * Updating existing records.\n",
        "  * Deleting records.\n",
        "* Generate a Response: After processing the request, your view function needs to generate an appropriate response to send back to the client. For RESTful APIs, responses are typically in a structured format like JSON. You should also set the correct HTTP status code to indicate the outcome of the request (e.g., 200 OK, 201 Created, 404 Not Found, 500 Internal Server Error). Flask's jsonify function is commonly used to create JSON responses, and you can return a tuple of the response data and the status code.\n",
        "\n",
        "* Handle Errors: Implement error handling to gracefully handle situations where something goes wrong (e.g., resource not found, invalid input). Return appropriate error responses with relevant status codes and informative error messages.\n",
        "\n",
        "In theory, creating a RESTful API endpoint in Flask is about mapping a URL to a function that understands the resource and responds to standard HTTP methods to perform actions on that resource, while handling input, output, and errors according to REST principles."
      ]
    },
    {
      "cell_type": "markdown",
      "metadata": {
        "id": "9EDiUE5TuG6i"
      },
      "source": [
        "15.  What is the purpose of Flask's jsonify() function?\n",
        "\n",
        "-> The primary purpose of Flask's jsonify() function is to make it easy to create JSON responses in your Flask applications, particularly when building APIs.\n",
        "\n",
        "**Here**'**s** **a** **breakdown** **of** **its** **purpose**:\n",
        "\n",
        "* Serialization to JSON: The jsonify() function takes Python data structures (like dictionaries, lists, etc.) and serializes them into a JSON formatted string. This is essential for creating API responses, as JSON is a widely used format for exchanging data over the web.\n",
        "\n",
        "* Setting the Content-Type Header: When you use jsonify(), it automatically sets the Content-Type header of the HTTP response to application/json. This tells the client that the response body contains JSON data, which is important for proper interpretation by the client.\n",
        "\n",
        "* Returning a Flask Response Object: jsonify() doesn't just return a JSON string; it returns a Flask Response object. This object encapsulates the response data, status code, headers, and other aspects of the HTTP response, making it a convenient way to construct responses in Flask.\n",
        "\n",
        "* Handling Basic Python Types: jsonify() is designed to handle basic Python types that can be easily converted to JSON, such as strings, numbers, booleans, lists, and dictionaries.\n",
        "\n",
        "In essence, jsonify() streamlines the process of returning structured data in JSON format from your Flask view functions. It handles the necessary serialization and header setting, allowing you to focus on generating the data you want to send back to the client. This is particularly useful when building RESTful APIs where JSON is the standard data exchange format."
      ]
    },
    {
      "cell_type": "markdown",
      "metadata": {
        "id": "3br2Pxr7wJV5"
      },
      "source": [
        "16.  Explain Flask’s url_for() function?\n",
        "\n",
        "-> Flask's url_for() function serves the purpose of generating URLs dynamically for specific view functions within a Flask application. Instead of manually constructing URLs as strings, which can be prone to errors if the URL structure changes, url_for() allows you to reference URLs by the name of the Python function that handles them.\n",
        "\n",
        "**Here**'**s** **a** **breakdown** **of** **its** **theoretical** **role**:\n",
        "\n",
        "* Abstraction of URL Structure: The function provides a level of abstraction over the actual URL paths defined by the @app.route() decorator. You don't need to know or hardcode the exact URL string; you just need to know the name of the view function you want to link to.\n",
        "\n",
        "* Dynamic URL Generation: url_for() generates the correct URL based on the current routing configuration of your Flask application. If you later modify the URL pattern for a route, url_for() will automatically generate the updated URL without requiring changes in the places where you've used it.\n",
        "\n",
        "* Handling Variable URL Parts: For routes that include variable components (e.g., /users/<username>), url_for() allows you to pass the values for these variables as arguments. It then incorporates these values into the generated URL, ensuring that the correct URL for a specific resource is created.\n",
        "\n",
        "* Adding Query String Parameters: The function also facilitates the inclusion of query string parameters in the generated URL. You can provide key-value pairs as arguments, and url_for() will append them to the URL in the correct format.\n",
        "\n",
        "* Support for Blueprints: When using blueprints to modularize your application, url_for() understands the blueprint naming convention. You can specify a URL for a view function within a blueprint by prefixing the view function name with the blueprint name and a dot, allowing url_for() to generate the correct URL within the blueprint's URL prefix.\n",
        "\n",
        "In essence, url_for() promotes maintainability, flexibility, and consistency in Flask applications by providing a reliable way to generate URLs based on the defined routes and view functions. It frees developers from the need to hardcode URL strings and simplifies the process of creating links and redirects within the application."
      ]
    },
    {
      "cell_type": "markdown",
      "metadata": {
        "id": "HSspeKYBxpbp"
      },
      "source": [
        "17.  How does Flask handle static files (CSS, JavaScript, etc.)?\n",
        "\n",
        "\n",
        "-> Flask handles static files (like CSS, JavaScript, and images) by serving them from a designated directory.\n",
        "\n",
        "**Here**'**s** **the** **theoretical** **explanation**:\n",
        "\n",
        "1. Static Folder: By default, Flask looks for static files in a folder named static within your application's root directory.\n",
        "2. URL Endpoint: Flask automatically creates a special endpoint, usually /static, to serve files from this directory.\n",
        "3. Accessing Static Files: In your templates or code, you can generate the URL for a static file using the url_for() function with the endpoint name 'static' and the filename as an argument. For example, url_for('static', filename='style.css') would generate the URL for a file named style.css located in the static folder. This function dynamically generates the correct URL based on your application's setup.\n",
        "When a client requests a URL that corresponds to a file in the static folder (e.g., /static/style.css), Flask intercepts the request and serves the file directly from that directory.\n",
        "\n",
        "This mechanism allows you to easily include external CSS stylesheets, JavaScript files, and other static assets in your Flask application."
      ]
    },
    {
      "cell_type": "markdown",
      "metadata": {
        "id": "pvh7_Uuy2JcM"
      },
      "source": [
        "18. What is an API specification, and how does it help in building a Flask API?\n",
        "\n",
        "-> An API specification is a formal document that defines the requirements and expected behavior of an API. It acts as a contract between the API provider and the API consumer, ensuring both parties understand how to interact correctly.\n",
        "\n",
        "An API specification helps in building a Flask API by:\n",
        "\n",
        "* Providing a blueprint: It outlines the endpoints, the HTTP methods supported for each endpoint (GET, POST, PUT, DELETE), and the expected request and response formats (e.g., JSON). This gives you a clear structure to follow when defining routes and view functions in your Flask application using the @app.route() decorator and handling different HTTP methods.\n",
        "* Defining data formats: The specification details how data is sent and received, often specifying formats like JSON or XML. This guides you in how to process incoming data using request.get_json() or request.form and how to structure outgoing responses, likely using Flask's jsonify() function to return JSON data.\n",
        "* Specifying parameters: It defines the parameters that need to be included in requests, whether as query parameters (accessible via request.args) or in the request body. This helps you design your view functions to correctly extract and process the data sent by clients.\n",
        "* Outlining authentication and authorization: The specification clarifies how clients need to authenticate and what permissions they have. This informs how you would implement security measures in your Flask API.\n",
        "* Describing error handling: It explains how the API signals errors and what information is provided in error responses. This guides you in implementing error handling using Flask's @app.errorhandler() decorator or try...except blocks to return appropriate HTTP status codes and informative error responses, often in JSON format.\n",
        "In essence, an API specification provides a clear set of requirements that guide the development of your Flask API, ensuring consistency, predictability, and ease of use for consumers of your API."
      ]
    },
    {
      "cell_type": "markdown",
      "metadata": {
        "id": "kRvF9pRq27bD"
      },
      "source": [
        "19. What are HTTP status codes, and why are they important in a Flask API?\n",
        "\n",
        "-> HTTP status codes are three-digit codes returned by a server in response to a client's HTTP request. They indicate the outcome of the request. These codes are standardized and categorized into five classes:\n",
        "\n",
        "* 1xx Informational: The request was received, continuing process.\n",
        "\n",
        "* 2xx Successful: The request was successfully received, understood, and accepted.\n",
        "* 3xx Redirection: Further action needs to be taken to complete the request.\n",
        "* 4xx Client Error: The request contains bad syntax or cannot be fulfilled.\n",
        "\n",
        "* 5xx Server Error: The server failed to fulfill an apparently valid request.\n",
        "HTTP status codes are important in a Flask API for several reasons:\n",
        "\n",
        "* Communication: They provide a standard way for the API to communicate the result of a request to the client. A client can understand whether the request was successful, if there was an error on their side, or if the server encountered an issue.\n",
        "* Error Handling: Status codes, particularly those in the 4xx and 5xx ranges, are crucial for signaling errors. For example, a 404 status code indicates that the requested resource was not found, while a 500 status code indicates an internal server error. This allows clients to identify and handle errors appropriately.\n",
        "* Standardization: Using standard HTTP status codes ensures that your API is predictable and easy to understand for developers consuming it. Clients can rely on the meaning of these codes across different APIs.\n",
        "* API Design: Incorporating appropriate status codes is a key aspect of designing a RESTful API. It helps ensure that the API adheres to principles of statelessness and a uniform interface.\n",
        "* Debugging: Status codes provide valuable information for debugging both the API and the client application. By examining the status code of a response, developers can quickly pinpoint potential issues.\n",
        "In a Flask API, you explicitly set the HTTP status code when returning a response. For instance, when returning a JSON response, you can return a tuple where the second element is the status code (e.g., return jsonify({'message': 'Resource created'}), 201). Flask also provides default error pages with appropriate status codes for common errors, and you can define custom error handlers to return specific status codes and responses for various error scenarios."
      ]
    },
    {
      "cell_type": "markdown",
      "metadata": {
        "id": "Yvt4a_G55CeQ"
      },
      "source": [
        "20. How do you handle POST requests in Flask?\n",
        "\n",
        "-> Securing a Flask API is crucial to protect your application and user data. Here are some key methods and best practices for securing a Flask API, based on the provided information and general security principles:\n",
        "\n",
        "* Use HTTPS: Always use HTTPS to encrypt communication between the client and the server. This protects data in transit from being intercepted and read. You can enforce HTTPS in your Flask application's production environment.\n",
        "\n",
        "* Implement Authentication: Verify the identity of the client making the request. Common methods include:\n",
        "\n",
        "  * Token-based authentication: Clients send a token (e.g., JWT) with each request to prove their identity. Flask extensions like Flask-JWT-Extended can help with this.\n",
        "  * API Keys: For simpler APIs or machine-to-machine communication, API keys can be used.\n",
        "  * OAuth2: For authorizing third-party applications to access user data. Flask extensions like Flask-OAuthlib can be useful.\n",
        "* Implement Authorization: After authenticating a client, determine what actions they are allowed to perform. This involves checking if the authenticated user or application has the necessary permissions to access a specific resource or perform an action.\n",
        "\n",
        "* Input Validation and Sanitization: Validate all incoming data from clients to prevent attacks like SQL injection, cross-site scripting (XSS), and other injection vulnerabilities. Sanitize inputs to remove or neutralize potentially harmful characters or code.\n",
        "\n",
        "* Protect Against CSRF (Cross-Site Request Forgery): Ensure that state-changing requests (like POST, PUT, DELETE) originate from your legitimate client application and not from a malicious site.Using CSRF tokens is a common defense mechanism. Flask-WTF provides CSRF protection features.\n",
        "\n",
        "* Set Secure Cookies: If you are using cookies for sessions or authentication, set the Secure and HttpOnly attributes. Secure ensures cookies are only sent over HTTPS, and HttpOnly prevents JavaScript from accessing cookie contents, mitigating XSS risks. Also, consider setting the SameSite attribute to Lax or Strict to prevent cookies from being sent in cross-site requests, which can help against CSRF attacks.\n",
        "\n",
        "* Rate Limiting: Limit the number of requests a client can make within a specific timeframe to prevent abuse, brute-force attacks, and denial-of-service (DoS) attacks. Flask-Limiter is a useful extension for implementing rate limiting.\n",
        "\n",
        "* Error Handling: Implement proper error handling that avoids leaking sensitive information in error responses. Provide generic error messages to clients and log detailed error information on the server side for debugging.\n",
        "\n",
        "* Secure Database Interactions: Use parameterized queries or ORMs (like SQLAlchemy with Flask-SQLAlchemy) to interact with your database to prevent SQL injection attacks.\n",
        "\n",
        "* Keep Dependencies Updated: Regularly update Flask and its extensions to the latest versions to ensure you have the latest security patches.\n",
        "\n",
        "* Logging and Monitoring: Implement comprehensive logging to record API requests, responses, and errors. Monitor your API for suspicious activity and potential security breaches.\n"
      ]
    },
    {
      "cell_type": "markdown",
      "metadata": {
        "id": "1zVQM2747hUB"
      },
      "source": [
        "22. What is the significance of the Flask-RESTful extension?\n",
        "\n",
        "-> The significance of the Flask-RESTful extension lies in its ability to simplify the process of building RESTful APIs with Flask. While Flask itself is a microframework that provides the core components for web development, Flask-RESTful builds upon this foundation to offer tools and conventions specifically designed for API development.\n",
        "\n",
        "Here's a breakdown of its significance:\n",
        "\n",
        "* Simplified Resource Definition: Flask-RESTful provides an abstraction layer for defining API resources. You can define your API endpoints and the allowed HTTP methods (GET, POST, PUT, DELETE, etc.) for each endpoint in a more structured and concise way compared to using Flask's native @app.route() decorator for every method.\n",
        "\n",
        "* Handling Request Parsing: APIs often involve receiving data from clients (e.g., in the request body for POST or PUT requests). Flask-RESTful offers tools for parsing incoming request data, validating it, and handling different data formats like JSON and form data. This simplifies the process of accessing and working with client-sent data in your view functions.\n",
        "\n",
        "* Serialization and Response Formatting: When returning data from your API, you typically need to serialize Python objects into a format like JSON. Flask-RESTful provides helpers and conventions for formatting responses, making it easier to consistently structure your API's output.\n",
        "\n",
        "* Error Handling: Flask-RESTful provides mechanisms for handling errors in a RESTful manner. It can automatically generate appropriate HTTP status codes and error responses based on exceptions that occur during request processing. This helps in providing consistent and informative error messages to API consumers.\n",
        "\n",
        "* Integration with SQLAlchemy: Flask-RESTful works well with SQLAlchemy, a popular Python ORM. This integration simplifies database interactions within your API resources, allowing you to define your data models and perform database operations using SQLAlchemy's ORM capabilities.\n",
        "\n",
        "* Documentation Generation: Some tools and extensions that integrate with Flask-RESTful can help in automatically generating API documentation based on your resource definitions. This is valuable for providing clear and up-to-date documentation for API consumers.\n",
        "\n",
        "In essence, Flask-RESTful provides a set of tools, conventions, and abstractions that streamline the process of building RESTful APIs with Flask. It handles many of the common tasks involved in API development, allowing developers to focus more on the business logic of their API and less on the low-level details of handling HTTP requests and responses in a RESTful way."
      ]
    },
    {
      "cell_type": "markdown",
      "metadata": {
        "id": "IH2p5lJK8_FR"
      },
      "source": [
        "23. What is the role of Flask’s session object?\n",
        "\n",
        "-> In Flask, the session object plays a crucial role in managing user-specific data across multiple requests. HTTP is fundamentally stateless, meaning each request from a client to a server is independent and the server doesn't inherently remember information about previous requests from the same client. The session object provides a way to maintain state for a particular user as they interact with your Flask application.\n",
        "\n",
        "Here's a breakdown of the theoretical role of Flask's session object:\n",
        "\n",
        "* Maintaining State: The primary purpose of the session object is to store information that needs to persist for a user throughout their interaction with the application. This information is not stored on the server in a way that makes it accessible globally, but rather is associated with the specific user's session.\n",
        "\n",
        "* Storing User-Specific Data: You can store various types of data in the session, such as:\n",
        "\n",
        " * User ID after successful login\n",
        "  * Shopping cart contents\n",
        "  * User preferences\n",
        "  * Flash messages (temporary messages to display to the user on the next request)\n",
        "* Client-Side Storage (Default): By default, Flask's session data is stored client-side in a cookie. The cookie contains a cryptographically signed representation of the session data. The signing ensures that the data hasn't been tampered with by the client. However, the actual data is sent to the client.\n",
        "\n",
        "* Server-Side Storage (with extensions): For sensitive data or larger amounts of data, it's often preferable to store session data on the server. Flask extensions like Flask-Session or Flask-KVSession provide options for server-side session storage using various backends like databases, Redis, or Memcached. In this case, the cookie only contains a session ID, which is used by the server to retrieve the corresponding session data.\n",
        "\n",
        "* Session Lifetime: The session has a lifetime. By default, it's a browser-session cookie, meaning it expires when the user closes their browser. You can configure the session lifetime to be permanent, meaning the cookie persists even after the browser is closed, up to a defined expiration time.\n",
        "\n",
        "* Security Considerations: Because session data can be sensitive, it's important to be aware of the security implications. When using client-side sessions, the data is visible to the client, although it's signed to prevent tampering. Server-side sessions are generally more secure for sensitive information as the data remains on the server. It's also crucial to use a strong secret key for signing the session cookie to prevent attackers from forging session data.\n",
        "\n",
        "In essence, Flask's session object provides a convenient and secure way to manage user-specific state in a stateless web environment. It allows you to store and retrieve data associated with a user across multiple requests, which is essential for building interactive web applications."
      ]
    },
    {
      "cell_type": "markdown",
      "metadata": {
        "id": "6SArj-K399pb"
      },
      "source": [
        "**PRACTICAL** **QUESTION**"
      ]
    },
    {
      "cell_type": "code",
      "execution_count": null,
      "metadata": {
        "colab": {
          "background_save": true
        },
        "id": "SeWLQVWci993"
      },
      "outputs": [],
      "source": [
        "#1.  How do you create a basic Flask application?\n",
        "\n",
        "!pip install flask\n",
        "\n",
        "from flask import Flask\n",
        "\n",
        "# Create the Flask application\n",
        "app = Flask(__name__)\n",
        "\n",
        "# Define a basic route\n",
        "@app.route('/')\n",
        "def home():\n",
        "    return \"Welcome to your first Flask app!\"\n",
        "\n",
        "# Run the app\n",
        "if __name__ == '__main__':\n",
        "    app.run(debug=True)\n",
        "!python app.py\n",
        "\n",
        "\n",
        "# Create the Flask application\n",
        "app = Flask(__name__)\n",
        "\n",
        "# Define a basic route\n",
        "@app.route('/')\n",
        "def home():\n",
        "    return \"Welcome to your first Flask app!\"\n",
        "\n",
        "# Run the app\n",
        "#1.  How do you create a basic Flask application?\n",
        "\n",
        "!pip install flask\n",
        "\n",
        "from flask import Flask\n",
        "\n",
        "# Create the Flask application\n",
        "app = Flask(__name__)\n",
        "\n",
        "# Define a basic route\n",
        "@app.route('/')\n",
        "def home():\n",
        "    return \"Welcome to your first Flask app!\"\n",
        "\n",
        "# Run the app\n",
        "if __name__ == '__main__':\n",
        "    app.run(debug=True)\n",
        "\n",
        "\n",
        "# Create the Flask application\n",
        "app = Flask(__name__)\n",
        "\n",
        "# Define a basic route\n",
        "@app.route('/')\n",
        "def home():\n",
        "    return \"Welcome to your first Flask app!\"\n",
        "\n",
        "# Run the app\n",
        "if __name__ == '__main__':\n",
        "    app.run(debug=True)\n",
        "!python app.py"
      ]
    },
    {
      "cell_type": "code",
      "execution_count": null,
      "metadata": {
        "id": "OM1RiqwxmSXu"
      },
      "outputs": [],
      "source": [
        "#2. How do you serve static files like images or CSS in Flask?\n",
        "\n",
        "from flask import Flask, render_template\n",
        "\n",
        "app = Flask(__name__)\n",
        "\n",
        "@app.route('/')\n",
        "def home():\n",
        "    return render_template('index.html')\n",
        "\n",
        "if __name__ == '__main__':\n",
        "    app.run(debug=True)"
      ]
    },
    {
      "cell_type": "code",
      "execution_count": null,
      "metadata": {
        "id": "vaNJj6acmkU2"
      },
      "outputs": [],
      "source": [
        "#3. How do you define different routes with different HTTP methods in Flask?\n",
        "\n",
        "\n",
        "\n",
        "from flask import Flask, request\n",
        "\n",
        "app = Flask(__name__)\n",
        "\n",
        "# GET method\n",
        "@app.route('/')\n",
        "def home():\n",
        "    return \"Welcome to the Home Page!\"\n",
        "\n",
        "# GET and POST methods\n",
        "@app.route('/submit', methods=['GET', 'POST'])\n",
        "def submit():\n",
        "    if request.method == 'POST':\n",
        "        name = request.form.get('name')\n",
        "        return f\"Hello, {name} (from POST)\"\n",
        "    return\n",
        "\n",
        "\n",
        "\n",
        "\n",
        "    '''\n",
        "\n",
        "# PUT method\n",
        "@app.route('/update', methods=['PUT'])\n",
        "def update():\n",
        "    return \"Data updated using PUT request\"\n",
        "\n",
        "# DELETE method\n",
        "@app.route('/delete', methods=['DELETE'])\n",
        "def delete():\n",
        "    return \"Data deleted using DELETE request\"\n",
        "\n",
        "if __name__ == '__main__':\n",
        "    app.run(debug=True)'''"
      ]
    },
    {
      "cell_type": "code",
      "execution_count": null,
      "metadata": {
        "id": "KyTWWV-InApP"
      },
      "outputs": [],
      "source": [
        "#4.How do you render HTML templates in Flask?\n",
        "\n",
        "from flask import Flask, render_template\n",
        "\n",
        "app = Flask(__name__)\n",
        "\n",
        "@app.route('/')\n",
        "def home():\n",
        "    return render_template('index.html')\n",
        "\n",
        "if __name__ == '__main__':\n",
        "    app.run(debug=True)\n",
        "\n"
      ]
    },
    {
      "cell_type": "code",
      "execution_count": null,
      "metadata": {
        "id": "XurN2hP3n19h"
      },
      "outputs": [],
      "source": [
        "#5.How can you generate URLs for routes in Flask using url_for?\n",
        "\n",
        "\n",
        "\n",
        "\n",
        "from flask import Flask, render_template, url_for, redirect\n",
        "\n",
        "app = Flask(__name__)\n",
        "\n",
        "@app.route('/')\n",
        "def home():\n",
        "    return render_template('home.html')\n",
        "\n",
        "@app.route('/about')\n",
        "def about():\n",
        "    return \"This is the About Page!\"\n",
        "\n",
        "@app.route('/go-to-about')\n",
        "def go_to_about():\n",
        "    # Redirect to 'about' route using url_for\n",
        "    return redirect(url_for('about'))\n",
        "\n",
        "if __name__ == '__main__':\n",
        "    app.run(debug=True)\n",
        "\n",
        "\n"
      ]
    },
    {
      "cell_type": "code",
      "execution_count": null,
      "metadata": {
        "id": "w-_dUfpcpSba"
      },
      "outputs": [],
      "source": [
        "#6.How do you handle forms in flasks?\n",
        "\n",
        "from flask import Flask, request, render_template\n",
        "\n",
        "app = Flask(__name__)\n",
        "\n",
        "@app.route('/')\n",
        "def form():\n",
        "    return render_template('form.html')\n",
        "\n",
        "@app.route('/submit', methods=['POST'])\n",
        "def submit():\n",
        "    username = request.form.get('username')\n",
        "    return render_template('result.html', username=username)\n",
        "\n",
        "if __name__ == '__main__':\n",
        "    app.run(debug=True)\n",
        "\n"
      ]
    },
    {
      "cell_type": "code",
      "execution_count": null,
      "metadata": {
        "id": "LJf6-KQCpZTM"
      },
      "outputs": [],
      "source": [
        "#7. How can you validate form data in Flask?\n",
        "\n",
        "from flask import Flask, request, render_template\n",
        "\n",
        "app = Flask(__name__)\n",
        "\n",
        "@app.route('/')\n",
        "def form():\n",
        "    return render_template('form.html')\n",
        "\n",
        "@app.route('/submit', methods=['POST'])\n",
        "def submit():\n",
        "    name = request.form.get('name')\n",
        "    email = request.form.get('email')\n",
        "\n",
        "    # Manual validation\n",
        "    if not name or not email:\n",
        "        return \"Name and email are required!\"\n",
        "    if '@' not in email:\n",
        "        return \"Invalid email format!\"\n",
        "\n",
        "    return f\"Welcome {name}, your email is {email}\"\n",
        "\n",
        "if __name__ == '__main__':\n",
        "    app.run(debug=True)\n",
        "\n",
        "\n"
      ]
    },
    {
      "cell_type": "code",
      "execution_count": null,
      "metadata": {
        "id": "W3MaG1lbprHf"
      },
      "outputs": [],
      "source": [
        "#8. How do you manage sessions in flask?\n",
        "\n",
        "from flask import Flask, render_template, request, session, redirect, url_for\n",
        "\n",
        "app = Flask(__name__)\n",
        "app.secret_key = 'your_secret_key_here'  # Required for session security\n",
        "\n",
        "@app.route('/')\n",
        "def home():\n",
        "    return render_template('login.html')\n",
        "\n",
        "@app.route('/login', methods=['POST'])\n",
        "def login():\n",
        "    username = request.form.get('username')\n",
        "\n",
        "    if username:\n",
        "        session['user'] = username  # Store data in session\n",
        "        return redirect(url_for('dashboard'))\n",
        "    return \"Username required!\"\n",
        "\n",
        "@app.route('/dashboard')\n",
        "def dashboard():\n",
        "    if 'user' in session:\n",
        "        return render_template('dashboard.html', user=session['user'])\n",
        "    return redirect(url_for('home'))\n",
        "\n",
        "@app.route('/logout')\n",
        "def logout():\n",
        "    session.pop('user', None)  # Clear session\n",
        "    return redirect(url_for('home'))\n",
        "    if __name__ == '__main__':\n",
        "    app.run(debug=True)\n",
        "\n"
      ]
    },
    {
      "cell_type": "code",
      "execution_count": null,
      "metadata": {
        "id": "beuc-JqHp_qy"
      },
      "outputs": [],
      "source": [
        "#10. How do you handle errors in Flask (e.g., 404)?\n",
        "\n",
        "from flask import Flask, render_template\n",
        "\n",
        "app = Flask(__name__)\n",
        "\n",
        "@app.route('/')\n",
        "def home():\n",
        "    return 'Welcome to the Home Page!'\n",
        "\n",
        "@app.route('/cause-error')\n",
        "def cause_error():\n",
        "    # This will raise an internal error\n",
        "    return 1 / 0\n",
        "\n",
        "# Custom 404 Error Handler\n",
        "@app.errorhandler(404)\n",
        "def not_found(error):\n",
        "    return render_template('404.html'), 404\n",
        "\n",
        "# Custom 500 Error Handler\n",
        "@app.errorhandler(500)\n",
        "def server_error(error):\n",
        "    return render_template('500.html'), 500\n",
        "\n",
        "if __name__ == '__main__':\n",
        "    app.run(debug=True)\n",
        "\n"
      ]
    },
    {
      "cell_type": "code",
      "execution_count": null,
      "metadata": {
        "id": "o8JmvqpBqSJQ"
      },
      "outputs": [],
      "source": [
        "#11. How do you structure a Flask app using Blueprints?\n",
        "\n",
        "from flask import Flask\n",
        "\n",
        "# Import blueprints\n",
        "from auth.routes import auth_bp\n",
        "from main.routes import main_bp\n",
        "\n",
        "app = Flask(__name__)\n",
        "app.secret_key = 'your_secret_key'\n",
        "\n",
        "# Register blueprints\n",
        "app.register_blueprint(auth_bp, url_prefix='/auth')\n",
        "app.register_blueprint(main_bp)\n",
        "\n",
        "if __name__ == '__main__':\n",
        "    app.run(debug=True)\n",
        "\n"
      ]
    },
    {
      "cell_type": "code",
      "execution_count": null,
      "metadata": {
        "id": "DncP_lznqXys"
      },
      "outputs": [],
      "source": [
        "#12. How do you define a custom Jinja filter in Flask?\n",
        "\n",
        "from flask import Flask, render_template\n",
        "\n",
        "app = Flask(__name__)\n",
        "\n",
        "# Define custom filter to reverse a string\n",
        "@app.template_filter('reverse')\n",
        "def reverse_filter(s):\n",
        "    return s[::-1]\n",
        "\n",
        "@app.route('/')\n",
        "def home():\n",
        "    return render_template('home.html', name='Sonu Kumar')\n",
        "\n",
        "if __name__ == '__main__':\n",
        "    app.run(debug=True)\n",
        "\n"
      ]
    },
    {
      "cell_type": "code",
      "execution_count": null,
      "metadata": {
        "id": "chB_tcYQqgFZ"
      },
      "outputs": [],
      "source": [
        "#13.  How can you redirect with query parameters in Flask?\n",
        "\n",
        "\n",
        "\n",
        "from flask import Flask, redirect, url_for, request\n",
        "\n",
        "app = Flask(__name__)\n",
        "\n",
        "@app.route('/')\n",
        "def home():\n",
        "    return 'Go with query params'\n",
        "\n",
        "@app.route('/go')\n",
        "def go():\n",
        "    # Redirect to /destination with query parameters\n",
        "    return redirect(url_for('destination', name='Sonu', age=24))\n",
        "\n",
        "@app.route('/destination')\n",
        "def destination():\n",
        "    # Access query parameters\n",
        "    name = request.args.get('name')\n",
        "    age = request.args.get('age')\n",
        "    return f\"Name: {name}, Age: {age}\"\n",
        "\n",
        "if __name__ == '__main__':\n",
        "    app.run(debug=True)\n",
        "\n"
      ]
    }
  ],
  "metadata": {
    "colab": {
      "provenance": []
    },
    "kernelspec": {
      "display_name": "Python 3",
      "name": "python3"
    },
    "language_info": {
      "name": "python"
    }
  },
  "nbformat": 4,
  "nbformat_minor": 0
}